{
  "nbformat": 4,
  "nbformat_minor": 0,
  "metadata": {
    "colab": {
      "name": "Naive Bayes_Document Classification.ipynb",
      "provenance": [],
      "collapsed_sections": []
    },
    "kernelspec": {
      "name": "python3",
      "display_name": "Python 3"
    },
    "language_info": {
      "name": "python"
    }
  },
  "cells": [
    {
      "cell_type": "markdown",
      "source": [
        "# Explanation of TFIDF"
      ],
      "metadata": {
        "id": "f6AsynSV915v"
      }
    },
    {
      "cell_type": "code",
      "source": [
        "from sklearn.feature_extraction.text import TfidfVectorizer"
      ],
      "metadata": {
        "id": "0qk0o56S8IsI"
      },
      "execution_count": null,
      "outputs": []
    },
    {
      "cell_type": "code",
      "execution_count": null,
      "metadata": {
        "id": "Bbpd_S5o7zt_"
      },
      "outputs": [],
      "source": [
        "TfidfVectorizer(stop_words=stop_words, token_pattern=token_pattern)\n",
        "tfidf_vec = TfidfVectorizer()"
      ]
    },
    {
      "cell_type": "code",
      "source": [
        "documents = [\n",
        "             'this is the bayes document',\n",
        "             'this is the second second document',\n",
        "             'and the third one',\n",
        "             'is this the document'\n",
        "]\n",
        "tfidf_matrix = tfidf_vec.fit_transform(documents)"
      ],
      "metadata": {
        "id": "8wbNByRo8PBD"
      },
      "execution_count": null,
      "outputs": []
    },
    {
      "cell_type": "code",
      "source": [
        "print('None duplicated words:', tfidf_vec.get_feature_names())\n",
        "print('ID of each word:', tfidf_vec.vocabulary_)\n",
        "print('tfidf of each word:', tfidf_matrix.toarray())"
      ],
      "metadata": {
        "id": "sA0aCpYs8X8J"
      },
      "execution_count": null,
      "outputs": []
    },
    {
      "cell_type": "markdown",
      "source": [
        "# Document Classification"
      ],
      "metadata": {
        "id": "EVxVg8oh98yx"
      }
    },
    {
      "cell_type": "code",
      "source": [
        "import nltk\n",
        "word_list = nltk.word_tokenize(text) # 分词\n",
        "nltk.pos_tag(word_list) # 标注单词的词性"
      ],
      "metadata": {
        "id": "B04ihDik8i-1"
      },
      "execution_count": null,
      "outputs": []
    },
    {
      "cell_type": "code",
      "source": [
        "import jieba\n",
        "word_list = jieba.cut (text) "
      ],
      "metadata": {
        "id": "Ouvm-JaU8pXV"
      },
      "execution_count": null,
      "outputs": []
    },
    {
      "cell_type": "code",
      "source": [
        "stop_words = [line.strip().decode('utf-8') for line in io.open('stop_words.txt').readlines()]"
      ],
      "metadata": {
        "id": "1VFHWXhp8vZH"
      },
      "execution_count": null,
      "outputs": []
    },
    {
      "cell_type": "code",
      "source": [
        "tf = TfidfVectorizer(stop_words=stop_words, max_df=0.5)\n",
        "features = tf.fit_transform(train_contents)"
      ],
      "metadata": {
        "id": "3VYw8rrS8xjK"
      },
      "execution_count": null,
      "outputs": []
    },
    {
      "cell_type": "code",
      "source": [
        "from sklearn.naive_bayes import MultinomialNB  \n",
        "clf = MultinomialNB(alpha=0.001).fit(train_features, train_labels)"
      ],
      "metadata": {
        "id": "Rg2NTc3j9Iug"
      },
      "execution_count": null,
      "outputs": []
    },
    {
      "cell_type": "code",
      "source": [
        "test_tf = TfidfVectorizer(stop_words=stop_words, max_df=0.5, vocabulary=train_vocabulary)\n",
        "2 test_features=test_tf.fit_transform(test_contents)"
      ],
      "metadata": {
        "id": "L_al_4yH9PxV"
      },
      "execution_count": null,
      "outputs": []
    },
    {
      "cell_type": "code",
      "source": [
        " predicted_labels=clf.predict(test_features)"
      ],
      "metadata": {
        "id": "e3RjbCGH9dET"
      },
      "execution_count": null,
      "outputs": []
    },
    {
      "cell_type": "markdown",
      "source": [
        "## Calculate accuracy"
      ],
      "metadata": {
        "id": "OGz8RE7J9fMQ"
      }
    },
    {
      "cell_type": "code",
      "source": [
        "from sklearn import metrics\n",
        "print metrics.accuracy_score(test_labels, predicted_labels)"
      ],
      "metadata": {
        "id": "ThmT55KD9ftD"
      },
      "execution_count": null,
      "outputs": []
    }
  ]
}